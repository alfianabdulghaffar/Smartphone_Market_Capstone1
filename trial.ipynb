{
 "cells": [
  {
   "cell_type": "code",
   "execution_count": 2,
   "metadata": {},
   "outputs": [
    {
     "data": {
      "text/plain": [
       "4"
      ]
     },
     "execution_count": 2,
     "metadata": {},
     "output_type": "execute_result"
    }
   ],
   "source": [
    "l1 = [1, 2, 3, 4]\n",
    "\n",
    "eval('len(l1)')"
   ]
  },
  {
   "cell_type": "code",
   "execution_count": 1,
   "metadata": {},
   "outputs": [],
   "source": [
    "import tabulate\n",
    "\n",
    "def readMenu (database, title='''**********Menu #1 Tampilkan Data Smartphone**********\\n\n",
    "         1. Tampilkan Semua Daftar Smartphone\n",
    "         2. Pilih Berdasar OS Smartphone\n",
    "         3. Kembali Ke Menu Utama\n",
    "         '''):\n",
    "    \"\"\"Fungsi untuk menampilkan database ke prompt\n",
    "    Args:\n",
    "        database (dictionary): database yang akan ditampilkan\n",
    "        title (str, optional): judul tampilan. Defaults \"\\nDaftar Smartphone yang Tersedia\\n\".\n",
    "    \"\"\"\n",
    "    # Menampilkan judul\n",
    "    print(title)\n",
    "    # Main Program Show dan Print data ke prompt dalam bentuk tabulasi\n",
    "\n",
    "    data = list(database.values())[1:]\n",
    "    header = database['column']\n",
    "    print(tabulate.tabulate(data, header, tablefmt=\"outline\"))\n",
    "    print(\"\\n\")"
   ]
  }
 ],
 "metadata": {
  "kernelspec": {
   "display_name": "Python 3",
   "language": "python",
   "name": "python3"
  },
  "language_info": {
   "codemirror_mode": {
    "name": "ipython",
    "version": 3
   },
   "file_extension": ".py",
   "mimetype": "text/x-python",
   "name": "python",
   "nbconvert_exporter": "python",
   "pygments_lexer": "ipython3",
   "version": "3.9.13"
  },
  "orig_nbformat": 4
 },
 "nbformat": 4,
 "nbformat_minor": 2
}
